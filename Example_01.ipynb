{
 "cells": [
  {
   "cell_type": "markdown",
   "metadata": {},
   "source": [
    "# EXAMPLE 01"
   ]
  },
  {
   "cell_type": "code",
   "execution_count": 55,
   "metadata": {},
   "outputs": [],
   "source": [
    "#import libraries \n",
    "import pandas as pd\n",
    "import numpy as np\n",
    "import matplotlib.pyplot as plt\n",
    "import seaborn as sns\n",
    "\n",
    "#load data set\n",
    "data_1= sns.load_dataset(\"titanic\") #This is a built in data set in seaborn library"
   ]
  },
  {
   "cell_type": "markdown",
   "metadata": {},
   "source": [
    "### Step 01 _ check the shape of the data set"
   ]
  },
  {
   "cell_type": "code",
   "execution_count": 56,
   "metadata": {},
   "outputs": [
    {
     "data": {
      "text/plain": [
       "(891, 15)"
      ]
     },
     "execution_count": 56,
     "metadata": {},
     "output_type": "execute_result"
    }
   ],
   "source": [
    "data_1.shape # rows, columns  in data set 1"
   ]
  },
  {
   "cell_type": "markdown",
   "metadata": {},
   "source": [
    "### Step 02 _ check the data types of the columns or data info"
   ]
  },
  {
   "cell_type": "code",
   "execution_count": 57,
   "metadata": {},
   "outputs": [
    {
     "name": "stdout",
     "output_type": "stream",
     "text": [
      "<class 'pandas.core.frame.DataFrame'>\n",
      "RangeIndex: 891 entries, 0 to 890\n",
      "Data columns (total 15 columns):\n",
      " #   Column       Non-Null Count  Dtype   \n",
      "---  ------       --------------  -----   \n",
      " 0   survived     891 non-null    int64   \n",
      " 1   pclass       891 non-null    int64   \n",
      " 2   sex          891 non-null    object  \n",
      " 3   age          714 non-null    float64 \n",
      " 4   sibsp        891 non-null    int64   \n",
      " 5   parch        891 non-null    int64   \n",
      " 6   fare         891 non-null    float64 \n",
      " 7   embarked     889 non-null    object  \n",
      " 8   class        891 non-null    category\n",
      " 9   who          891 non-null    object  \n",
      " 10  adult_male   891 non-null    bool    \n",
      " 11  deck         203 non-null    category\n",
      " 12  embark_town  889 non-null    object  \n",
      " 13  alive        891 non-null    object  \n",
      " 14  alone        891 non-null    bool    \n",
      "dtypes: bool(2), category(2), float64(2), int64(4), object(5)\n",
      "memory usage: 80.7+ KB\n"
     ]
    }
   ],
   "source": [
    "data_1.info() # data types of each column in data set 1"
   ]
  },
  {
   "cell_type": "markdown",
   "metadata": {},
   "source": [
    "### Step 03 _ check the missing Values in the data set "
   ]
  },
  {
   "cell_type": "code",
   "execution_count": 58,
   "metadata": {},
   "outputs": [
    {
     "data": {
      "text/plain": [
       "survived         0\n",
       "pclass           0\n",
       "sex              0\n",
       "age            177\n",
       "sibsp            0\n",
       "parch            0\n",
       "fare             0\n",
       "embarked         2\n",
       "class            0\n",
       "who              0\n",
       "adult_male       0\n",
       "deck           688\n",
       "embark_town      2\n",
       "alive            0\n",
       "alone            0\n",
       "dtype: int64"
      ]
     },
     "execution_count": 58,
     "metadata": {},
     "output_type": "execute_result"
    }
   ],
   "source": [
    "data_1.isnull().sum() # check for missing values in data set 1"
   ]
  },
  {
   "cell_type": "code",
   "execution_count": null,
   "metadata": {},
   "outputs": [],
   "source": [
    "# cheak for missing values in the data (NaN or Null)  with percentage\n",
    "data_1.isnull().sum() / data_1.shape[0]*100\n",
    "\n",
    "# if missing values are more than 50% then drop the column  its not useful for analysis \n",
    "# (in next step we will deal with missing data )"
   ]
  },
  {
   "cell_type": "markdown",
   "metadata": {},
   "source": [
    "### Step 04 _ Dealing with missing values "
   ]
  },
  {
   "cell_type": "code",
   "execution_count": 59,
   "metadata": {},
   "outputs": [
    {
     "data": {
      "text/plain": [
       "survived       0\n",
       "pclass         0\n",
       "sex            0\n",
       "age            0\n",
       "sibsp          0\n",
       "parch          0\n",
       "fare           0\n",
       "embarked       0\n",
       "class          0\n",
       "who            0\n",
       "adult_male     0\n",
       "embark_town    0\n",
       "alive          0\n",
       "alone          0\n",
       "dtype: int64"
      ]
     },
     "execution_count": 59,
     "metadata": {},
     "output_type": "execute_result"
    }
   ],
   "source": [
    "# in data_1 we have missing values in age(19.865320% ), deck (77.216611%) , embarked (0.224467%)  and embark_town (0.224467%) columns\n",
    "\n",
    "# first drop deck coloumn because it has more than 50% missing values\n",
    "data_1.drop('deck', axis=1, inplace=True)\n",
    "\n",
    "# second fill missing values in age column with mean value\n",
    "data_1['age'].fillna(data_1['age'].mean(), inplace=True)\n",
    "\n",
    "#third fill missing values in embarked column with mode value\n",
    "data_1['embarked'].fillna(data_1['embarked'].mode()[0], inplace=True)\n",
    "\n",
    "#fourth fill missing values in embarked_town column with mode value\n",
    "data_1['embark_town'].fillna(data_1['embark_town'].mode()[0], inplace=True)\n",
    "\n",
    "# In Last check if there is any missing values in data_1 \n",
    "data_1.isnull().sum() \n",
    "\n",
    "# No missing values in data_1\n"
   ]
  },
  {
   "cell_type": "markdown",
   "metadata": {},
   "source": [
    "### Step 04 _ check the statistical summary of the data set "
   ]
  },
  {
   "cell_type": "code",
   "execution_count": 60,
   "metadata": {},
   "outputs": [
    {
     "data": {
      "text/html": [
       "<div>\n",
       "<style scoped>\n",
       "    .dataframe tbody tr th:only-of-type {\n",
       "        vertical-align: middle;\n",
       "    }\n",
       "\n",
       "    .dataframe tbody tr th {\n",
       "        vertical-align: top;\n",
       "    }\n",
       "\n",
       "    .dataframe thead th {\n",
       "        text-align: right;\n",
       "    }\n",
       "</style>\n",
       "<table border=\"1\" class=\"dataframe\">\n",
       "  <thead>\n",
       "    <tr style=\"text-align: right;\">\n",
       "      <th></th>\n",
       "      <th>survived</th>\n",
       "      <th>pclass</th>\n",
       "      <th>age</th>\n",
       "      <th>sibsp</th>\n",
       "      <th>parch</th>\n",
       "      <th>fare</th>\n",
       "    </tr>\n",
       "  </thead>\n",
       "  <tbody>\n",
       "    <tr>\n",
       "      <th>count</th>\n",
       "      <td>891.000000</td>\n",
       "      <td>891.000000</td>\n",
       "      <td>891.000000</td>\n",
       "      <td>891.000000</td>\n",
       "      <td>891.000000</td>\n",
       "      <td>891.000000</td>\n",
       "    </tr>\n",
       "    <tr>\n",
       "      <th>mean</th>\n",
       "      <td>0.383838</td>\n",
       "      <td>2.308642</td>\n",
       "      <td>29.699118</td>\n",
       "      <td>0.523008</td>\n",
       "      <td>0.381594</td>\n",
       "      <td>32.204208</td>\n",
       "    </tr>\n",
       "    <tr>\n",
       "      <th>std</th>\n",
       "      <td>0.486592</td>\n",
       "      <td>0.836071</td>\n",
       "      <td>13.002015</td>\n",
       "      <td>1.102743</td>\n",
       "      <td>0.806057</td>\n",
       "      <td>49.693429</td>\n",
       "    </tr>\n",
       "    <tr>\n",
       "      <th>min</th>\n",
       "      <td>0.000000</td>\n",
       "      <td>1.000000</td>\n",
       "      <td>0.420000</td>\n",
       "      <td>0.000000</td>\n",
       "      <td>0.000000</td>\n",
       "      <td>0.000000</td>\n",
       "    </tr>\n",
       "    <tr>\n",
       "      <th>25%</th>\n",
       "      <td>0.000000</td>\n",
       "      <td>2.000000</td>\n",
       "      <td>22.000000</td>\n",
       "      <td>0.000000</td>\n",
       "      <td>0.000000</td>\n",
       "      <td>7.910400</td>\n",
       "    </tr>\n",
       "    <tr>\n",
       "      <th>50%</th>\n",
       "      <td>0.000000</td>\n",
       "      <td>3.000000</td>\n",
       "      <td>29.699118</td>\n",
       "      <td>0.000000</td>\n",
       "      <td>0.000000</td>\n",
       "      <td>14.454200</td>\n",
       "    </tr>\n",
       "    <tr>\n",
       "      <th>75%</th>\n",
       "      <td>1.000000</td>\n",
       "      <td>3.000000</td>\n",
       "      <td>35.000000</td>\n",
       "      <td>1.000000</td>\n",
       "      <td>0.000000</td>\n",
       "      <td>31.000000</td>\n",
       "    </tr>\n",
       "    <tr>\n",
       "      <th>max</th>\n",
       "      <td>1.000000</td>\n",
       "      <td>3.000000</td>\n",
       "      <td>80.000000</td>\n",
       "      <td>8.000000</td>\n",
       "      <td>6.000000</td>\n",
       "      <td>512.329200</td>\n",
       "    </tr>\n",
       "  </tbody>\n",
       "</table>\n",
       "</div>"
      ],
      "text/plain": [
       "         survived      pclass         age       sibsp       parch        fare\n",
       "count  891.000000  891.000000  891.000000  891.000000  891.000000  891.000000\n",
       "mean     0.383838    2.308642   29.699118    0.523008    0.381594   32.204208\n",
       "std      0.486592    0.836071   13.002015    1.102743    0.806057   49.693429\n",
       "min      0.000000    1.000000    0.420000    0.000000    0.000000    0.000000\n",
       "25%      0.000000    2.000000   22.000000    0.000000    0.000000    7.910400\n",
       "50%      0.000000    3.000000   29.699118    0.000000    0.000000   14.454200\n",
       "75%      1.000000    3.000000   35.000000    1.000000    0.000000   31.000000\n",
       "max      1.000000    3.000000   80.000000    8.000000    6.000000  512.329200"
      ]
     },
     "execution_count": 60,
     "metadata": {},
     "output_type": "execute_result"
    }
   ],
   "source": [
    "data_1.describe() # summary of data set 1"
   ]
  },
  {
   "cell_type": "code",
   "execution_count": 61,
   "metadata": {},
   "outputs": [
    {
     "data": {
      "text/plain": [
       "Third     491\n",
       "First     216\n",
       "Second    184\n",
       "Name: class, dtype: int64"
      ]
     },
     "execution_count": 61,
     "metadata": {},
     "output_type": "execute_result"
    }
   ],
   "source": [
    "#cheak value count of the specific column in data set (if you want)\n",
    "data_1[\"class\"].value_counts()"
   ]
  },
  {
   "cell_type": "markdown",
   "metadata": {},
   "source": [
    "### Step 05 _ check the unique values in data set "
   ]
  },
  {
   "cell_type": "code",
   "execution_count": null,
   "metadata": {},
   "outputs": [],
   "source": [
    "# cheak the unique values in the data set/column (if you want)\n",
    "data_1[\"class\"].unique()"
   ]
  },
  {
   "cell_type": "code",
   "execution_count": null,
   "metadata": {},
   "outputs": [],
   "source": [
    "# cheak the perticular unique value in the data set/column (if you want)\n",
    "data_1[data_1.embark_town == \"Queenstown\"]"
   ]
  },
  {
   "cell_type": "markdown",
   "metadata": {},
   "source": [
    "### Step 06 _ check the Hypothesis of the data set (normality, linearity, homoscedasticity)"
   ]
  },
  {
   "cell_type": "code",
   "execution_count": 62,
   "metadata": {},
   "outputs": [
    {
     "data": {
      "text/plain": [
       "<AxesSubplot:xlabel='age', ylabel='Count'>"
      ]
     },
     "execution_count": 62,
     "metadata": {},
     "output_type": "execute_result"
    },
    {
     "data": {
      "image/png": "[encoded data removed]",
      "text/plain": [
       "<Figure size 640x480 with 1 Axes>"
      ]
     },
     "metadata": {},
     "output_type": "display_data"
    }
   ],
   "source": [
    "# cheak the normal distribution of the data set (if you want)\n",
    "sns.histplot(data_1[\"age\"], kde=True) # kde = True for density curve and kde = False for  only histogram"
   ]
  },
  {
   "cell_type": "markdown",
   "metadata": {},
   "source": [
    "#####  measure its skewness and kurtosis\n",
    "- skewness is a measure of the asymmetry of the probability distribution of a real-valued random variable about its mean. \n",
    "-  The skewness value can be positive or negative, or even undefined.\n",
    "- kurtosis is a measure of whether the data are heavy-tailed or light-tailed relative to a normal distribution. That is, data sets with high kurtosis tend to have heavy tails, or outliers. \n",
    "-  Data sets with low kurtosis tend to have light tails, or lack of outliers.\n",
    "-  A uniform distribution will be the extreme case.\n",
    "-  A normal distribution will have a kurtosis of 3."
   ]
  },
  {
   "cell_type": "code",
   "execution_count": 65,
   "metadata": {},
   "outputs": [
    {
     "name": "stdout",
     "output_type": "stream",
     "text": [
      "Skewness: 0.434488 Kurtosis: 0.966279\n"
     ]
    }
   ],
   "source": [
    "# cheak the normal distribution of the data set (if you want)\n",
    "#skewness and kurtosis\n",
    "data_1[\"age\"].skew() # positive skewness\n",
    "data_1[\"age\"].kurt() # positive kurtosis\n",
    "print (\"Skewness: %f\" % data_1[\"age\"].skew(), \"Kurtosis: %f\" % data_1[\"age\"].kurt()) "
   ]
  },
  {
   "cell_type": "code",
   "execution_count": 66,
   "metadata": {},
   "outputs": [
    {
     "data": {
      "text/plain": [
       "skew    0.434488\n",
       "kurt    0.966279\n",
       "Name: age, dtype: float64"
      ]
     },
     "execution_count": 66,
     "metadata": {},
     "output_type": "execute_result"
    }
   ],
   "source": [
    "# aggreate the data set (if you want)\n",
    "data_1[\"age\"].agg([\"skew\",\"kurt\"]) # positive skewness and positive kurtosis"
   ]
  },
  {
   "cell_type": "markdown",
   "metadata": {},
   "source": [
    "### Step 07 _ check the visualization of your data / Analysis your data "
   ]
  },
  {
   "cell_type": "code",
   "execution_count": 73,
   "metadata": {},
   "outputs": [
    {
     "name": "stderr",
     "output_type": "stream",
     "text": [
      "c:\\ProgramData\\Anaconda3\\lib\\site-packages\\seaborn\\_decorators.py:36: FutureWarning: Pass the following variable as a keyword arg: x. From version 0.12, the only valid positional argument will be `data`, and passing other arguments without an explicit keyword will result in an error or misinterpretation.\n",
      "  warnings.warn(\n",
      "c:\\ProgramData\\Anaconda3\\lib\\site-packages\\seaborn\\_core.py:1326: UserWarning: Vertical orientation ignored with only `x` specified.\n",
      "  warnings.warn(single_var_warning.format(\"Vertical\", \"x\"))\n"
     ]
    },
    {
     "data": {
      "text/plain": [
       "<AxesSubplot:xlabel='age'>"
      ]
     },
     "execution_count": 73,
     "metadata": {},
     "output_type": "execute_result"
    },
    {
     "data": {
      "image/png": "[encoded data removed]",
      "text/plain": [
       "<Figure size 640x480 with 1 Axes>"
      ]
     },
     "metadata": {},
     "output_type": "display_data"
    }
   ],
   "source": [
    "# box plot (if you want)\n",
    "sns.boxplot(data_1[\"age\"],orient='v') # cheak the outliers in the data set"
   ]
  },
  {
   "cell_type": "code",
   "execution_count": 74,
   "metadata": {},
   "outputs": [
    {
     "data": {
      "text/plain": [
       "<AxesSubplot:xlabel='age', ylabel='class'>"
      ]
     },
     "execution_count": 74,
     "metadata": {},
     "output_type": "execute_result"
    },
    {
     "data": {
      "image/png": "[encoded data removed]",
      "text/plain": [
       "<Figure size 640x480 with 1 Axes>"
      ]
     },
     "metadata": {},
     "output_type": "display_data"
    }
   ],
   "source": [
    "sns.histplot(x='age', y='class', data=data_1, hue='class')"
   ]
  },
  {
   "cell_type": "code",
   "execution_count": 75,
   "metadata": {},
   "outputs": [
    {
     "data": {
      "text/plain": [
       "<AxesSubplot:xlabel='age', ylabel='Count'>"
      ]
     },
     "execution_count": 75,
     "metadata": {},
     "output_type": "execute_result"
    },
    {
     "data": {
      "image/png": "[encoded data removed]",
      "text/plain": [
       "<Figure size 640x480 with 1 Axes>"
      ]
     },
     "metadata": {},
     "output_type": "display_data"
    }
   ],
   "source": [
    "sns.histplot(x=\"age\",data=data_1,hue=\"sex\",alpha=0.4, kde=True)"
   ]
  },
  {
   "cell_type": "markdown",
   "metadata": {},
   "source": [
    "### Step 08 _ correlation between data "
   ]
  },
  {
   "cell_type": "code",
   "execution_count": 76,
   "metadata": {},
   "outputs": [
    {
     "data": {
      "text/plain": [
       "female   -0.084153\n",
       "male      0.084153\n",
       "dtype: float64"
      ]
     },
     "execution_count": 76,
     "metadata": {},
     "output_type": "execute_result"
    }
   ],
   "source": [
    "# Correlation between male age and female age\n",
    "data_1[\"sex\"].str.get_dummies().corrwith(data_1[\"age\"])"
   ]
  },
  {
   "cell_type": "code",
   "execution_count": 81,
   "metadata": {},
   "outputs": [
    {
     "data": {
      "text/html": [
       "<style type=\"text/css\">\n",
       "#T_e3375_row0_col0, #T_e3375_row1_col1, #T_e3375_row2_col2, #T_e3375_row3_col3, #T_e3375_row4_col4, #T_e3375_row5_col5, #T_e3375_row6_col6, #T_e3375_row7_col7 {\n",
       "  background-color: #b40426;\n",
       "  color: #f1f1f1;\n",
       "}\n",
       "#T_e3375_row0_col1, #T_e3375_row4_col6 {\n",
       "  background-color: #6485ec;\n",
       "  color: #f1f1f1;\n",
       "}\n",
       "#T_e3375_row0_col2, #T_e3375_row5_col7 {\n",
       "  background-color: #7a9df8;\n",
       "  color: #f1f1f1;\n",
       "}\n",
       "#T_e3375_row0_col3 {\n",
       "  background-color: #aec9fc;\n",
       "  color: #000000;\n",
       "}\n",
       "#T_e3375_row0_col4, #T_e3375_row1_col3, #T_e3375_row1_col6 {\n",
       "  background-color: #c6d6f1;\n",
       "  color: #000000;\n",
       "}\n",
       "#T_e3375_row0_col5, #T_e3375_row2_col6, #T_e3375_row5_col0 {\n",
       "  background-color: #e2dad5;\n",
       "  color: #000000;\n",
       "}\n",
       "#T_e3375_row0_col6, #T_e3375_row1_col2, #T_e3375_row1_col5, #T_e3375_row3_col7, #T_e3375_row4_col7, #T_e3375_row5_col1, #T_e3375_row6_col0, #T_e3375_row7_col3, #T_e3375_row7_col4 {\n",
       "  background-color: #3b4cc0;\n",
       "  color: #f1f1f1;\n",
       "}\n",
       "#T_e3375_row0_col7, #T_e3375_row5_col6 {\n",
       "  background-color: #89acfd;\n",
       "  color: #000000;\n",
       "}\n",
       "#T_e3375_row1_col0 {\n",
       "  background-color: #6687ed;\n",
       "  color: #f1f1f1;\n",
       "}\n",
       "#T_e3375_row1_col4 {\n",
       "  background-color: #bad0f8;\n",
       "  color: #000000;\n",
       "}\n",
       "#T_e3375_row1_col7 {\n",
       "  background-color: #d1dae9;\n",
       "  color: #000000;\n",
       "}\n",
       "#T_e3375_row2_col0 {\n",
       "  background-color: #a3c2fe;\n",
       "  color: #000000;\n",
       "}\n",
       "#T_e3375_row2_col1 {\n",
       "  background-color: #6788ee;\n",
       "  color: #f1f1f1;\n",
       "}\n",
       "#T_e3375_row2_col3 {\n",
       "  background-color: #82a6fb;\n",
       "  color: #f1f1f1;\n",
       "}\n",
       "#T_e3375_row2_col4 {\n",
       "  background-color: #8fb1fe;\n",
       "  color: #000000;\n",
       "}\n",
       "#T_e3375_row2_col5, #T_e3375_row4_col0 {\n",
       "  background-color: #c4d5f3;\n",
       "  color: #000000;\n",
       "}\n",
       "#T_e3375_row2_col7 {\n",
       "  background-color: #d8dce2;\n",
       "  color: #000000;\n",
       "}\n",
       "#T_e3375_row3_col0 {\n",
       "  background-color: #aac7fd;\n",
       "  color: #000000;\n",
       "}\n",
       "#T_e3375_row3_col1 {\n",
       "  background-color: #c3d5f4;\n",
       "  color: #000000;\n",
       "}\n",
       "#T_e3375_row3_col2 {\n",
       "  background-color: #506bda;\n",
       "  color: #f1f1f1;\n",
       "}\n",
       "#T_e3375_row3_col4, #T_e3375_row4_col3 {\n",
       "  background-color: #f5c2aa;\n",
       "  color: #000000;\n",
       "}\n",
       "#T_e3375_row3_col5 {\n",
       "  background-color: #d2dbe8;\n",
       "  color: #000000;\n",
       "}\n",
       "#T_e3375_row3_col6 {\n",
       "  background-color: #799cf8;\n",
       "  color: #f1f1f1;\n",
       "}\n",
       "#T_e3375_row4_col1 {\n",
       "  background-color: #b5cdfa;\n",
       "  color: #000000;\n",
       "}\n",
       "#T_e3375_row4_col2 {\n",
       "  background-color: #5e7de7;\n",
       "  color: #f1f1f1;\n",
       "}\n",
       "#T_e3375_row4_col5 {\n",
       "  background-color: #dbdcde;\n",
       "  color: #000000;\n",
       "}\n",
       "#T_e3375_row5_col2 {\n",
       "  background-color: #a5c3fe;\n",
       "  color: #000000;\n",
       "}\n",
       "#T_e3375_row5_col3 {\n",
       "  background-color: #d5dbe5;\n",
       "  color: #000000;\n",
       "}\n",
       "#T_e3375_row5_col4 {\n",
       "  background-color: #dedcdb;\n",
       "  color: #000000;\n",
       "}\n",
       "#T_e3375_row6_col1 {\n",
       "  background-color: #c5d6f2;\n",
       "  color: #000000;\n",
       "}\n",
       "#T_e3375_row6_col2 {\n",
       "  background-color: #ccd9ed;\n",
       "  color: #000000;\n",
       "}\n",
       "#T_e3375_row6_col3 {\n",
       "  background-color: #7ea1fa;\n",
       "  color: #f1f1f1;\n",
       "}\n",
       "#T_e3375_row6_col4 {\n",
       "  background-color: #688aef;\n",
       "  color: #f1f1f1;\n",
       "}\n",
       "#T_e3375_row6_col5 {\n",
       "  background-color: #88abfd;\n",
       "  color: #000000;\n",
       "}\n",
       "#T_e3375_row6_col7 {\n",
       "  background-color: #f4c5ad;\n",
       "  color: #000000;\n",
       "}\n",
       "#T_e3375_row7_col0 {\n",
       "  background-color: #85a8fc;\n",
       "  color: #f1f1f1;\n",
       "}\n",
       "#T_e3375_row7_col1 {\n",
       "  background-color: #cdd9ec;\n",
       "  color: #000000;\n",
       "}\n",
       "#T_e3375_row7_col2 {\n",
       "  background-color: #bbd1f8;\n",
       "  color: #000000;\n",
       "}\n",
       "#T_e3375_row7_col5 {\n",
       "  background-color: #7396f5;\n",
       "  color: #f1f1f1;\n",
       "}\n",
       "#T_e3375_row7_col6 {\n",
       "  background-color: #f4c6af;\n",
       "  color: #000000;\n",
       "}\n",
       "</style>\n",
       "<table id=\"T_e3375\">\n",
       "  <thead>\n",
       "    <tr>\n",
       "      <th class=\"blank level0\" >&nbsp;</th>\n",
       "      <th id=\"T_e3375_level0_col0\" class=\"col_heading level0 col0\" >survived</th>\n",
       "      <th id=\"T_e3375_level0_col1\" class=\"col_heading level0 col1\" >pclass</th>\n",
       "      <th id=\"T_e3375_level0_col2\" class=\"col_heading level0 col2\" >age</th>\n",
       "      <th id=\"T_e3375_level0_col3\" class=\"col_heading level0 col3\" >sibsp</th>\n",
       "      <th id=\"T_e3375_level0_col4\" class=\"col_heading level0 col4\" >parch</th>\n",
       "      <th id=\"T_e3375_level0_col5\" class=\"col_heading level0 col5\" >fare</th>\n",
       "      <th id=\"T_e3375_level0_col6\" class=\"col_heading level0 col6\" >adult_male</th>\n",
       "      <th id=\"T_e3375_level0_col7\" class=\"col_heading level0 col7\" >alone</th>\n",
       "    </tr>\n",
       "  </thead>\n",
       "  <tbody>\n",
       "    <tr>\n",
       "      <th id=\"T_e3375_level0_row0\" class=\"row_heading level0 row0\" >survived</th>\n",
       "      <td id=\"T_e3375_row0_col0\" class=\"data row0 col0\" >1.000000</td>\n",
       "      <td id=\"T_e3375_row0_col1\" class=\"data row0 col1\" >-0.338481</td>\n",
       "      <td id=\"T_e3375_row0_col2\" class=\"data row0 col2\" >-0.069809</td>\n",
       "      <td id=\"T_e3375_row0_col3\" class=\"data row0 col3\" >-0.035322</td>\n",
       "      <td id=\"T_e3375_row0_col4\" class=\"data row0 col4\" >0.081629</td>\n",
       "      <td id=\"T_e3375_row0_col5\" class=\"data row0 col5\" >0.257307</td>\n",
       "      <td id=\"T_e3375_row0_col6\" class=\"data row0 col6\" >-0.557080</td>\n",
       "      <td id=\"T_e3375_row0_col7\" class=\"data row0 col7\" >-0.203367</td>\n",
       "    </tr>\n",
       "    <tr>\n",
       "      <th id=\"T_e3375_level0_row1\" class=\"row_heading level0 row1\" >pclass</th>\n",
       "      <td id=\"T_e3375_row1_col0\" class=\"data row1 col0\" >-0.338481</td>\n",
       "      <td id=\"T_e3375_row1_col1\" class=\"data row1 col1\" >1.000000</td>\n",
       "      <td id=\"T_e3375_row1_col2\" class=\"data row1 col2\" >-0.331339</td>\n",
       "      <td id=\"T_e3375_row1_col3\" class=\"data row1 col3\" >0.083081</td>\n",
       "      <td id=\"T_e3375_row1_col4\" class=\"data row1 col4\" >0.018443</td>\n",
       "      <td id=\"T_e3375_row1_col5\" class=\"data row1 col5\" >-0.549500</td>\n",
       "      <td id=\"T_e3375_row1_col6\" class=\"data row1 col6\" >0.094035</td>\n",
       "      <td id=\"T_e3375_row1_col7\" class=\"data row1 col7\" >0.135207</td>\n",
       "    </tr>\n",
       "    <tr>\n",
       "      <th id=\"T_e3375_level0_row2\" class=\"row_heading level0 row2\" >age</th>\n",
       "      <td id=\"T_e3375_row2_col0\" class=\"data row2 col0\" >-0.069809</td>\n",
       "      <td id=\"T_e3375_row2_col1\" class=\"data row2 col1\" >-0.331339</td>\n",
       "      <td id=\"T_e3375_row2_col2\" class=\"data row2 col2\" >1.000000</td>\n",
       "      <td id=\"T_e3375_row2_col3\" class=\"data row2 col3\" >-0.232625</td>\n",
       "      <td id=\"T_e3375_row2_col4\" class=\"data row2 col4\" >-0.179191</td>\n",
       "      <td id=\"T_e3375_row2_col5\" class=\"data row2 col5\" >0.091566</td>\n",
       "      <td id=\"T_e3375_row2_col6\" class=\"data row2 col6\" >0.253236</td>\n",
       "      <td id=\"T_e3375_row2_col7\" class=\"data row2 col7\" >0.179775</td>\n",
       "    </tr>\n",
       "    <tr>\n",
       "      <th id=\"T_e3375_level0_row3\" class=\"row_heading level0 row3\" >sibsp</th>\n",
       "      <td id=\"T_e3375_row3_col0\" class=\"data row3 col0\" >-0.035322</td>\n",
       "      <td id=\"T_e3375_row3_col1\" class=\"data row3 col1\" >0.083081</td>\n",
       "      <td id=\"T_e3375_row3_col2\" class=\"data row3 col2\" >-0.232625</td>\n",
       "      <td id=\"T_e3375_row3_col3\" class=\"data row3 col3\" >1.000000</td>\n",
       "      <td id=\"T_e3375_row3_col4\" class=\"data row3 col4\" >0.414838</td>\n",
       "      <td id=\"T_e3375_row3_col5\" class=\"data row3 col5\" >0.159651</td>\n",
       "      <td id=\"T_e3375_row3_col6\" class=\"data row3 col6\" >-0.253586</td>\n",
       "      <td id=\"T_e3375_row3_col7\" class=\"data row3 col7\" >-0.584471</td>\n",
       "    </tr>\n",
       "    <tr>\n",
       "      <th id=\"T_e3375_level0_row4\" class=\"row_heading level0 row4\" >parch</th>\n",
       "      <td id=\"T_e3375_row4_col0\" class=\"data row4 col0\" >0.081629</td>\n",
       "      <td id=\"T_e3375_row4_col1\" class=\"data row4 col1\" >0.018443</td>\n",
       "      <td id=\"T_e3375_row4_col2\" class=\"data row4 col2\" >-0.179191</td>\n",
       "      <td id=\"T_e3375_row4_col3\" class=\"data row4 col3\" >0.414838</td>\n",
       "      <td id=\"T_e3375_row4_col4\" class=\"data row4 col4\" >1.000000</td>\n",
       "      <td id=\"T_e3375_row4_col5\" class=\"data row4 col5\" >0.216225</td>\n",
       "      <td id=\"T_e3375_row4_col6\" class=\"data row4 col6\" >-0.349943</td>\n",
       "      <td id=\"T_e3375_row4_col7\" class=\"data row4 col7\" >-0.583398</td>\n",
       "    </tr>\n",
       "    <tr>\n",
       "      <th id=\"T_e3375_level0_row5\" class=\"row_heading level0 row5\" >fare</th>\n",
       "      <td id=\"T_e3375_row5_col0\" class=\"data row5 col0\" >0.257307</td>\n",
       "      <td id=\"T_e3375_row5_col1\" class=\"data row5 col1\" >-0.549500</td>\n",
       "      <td id=\"T_e3375_row5_col2\" class=\"data row5 col2\" >0.091566</td>\n",
       "      <td id=\"T_e3375_row5_col3\" class=\"data row5 col3\" >0.159651</td>\n",
       "      <td id=\"T_e3375_row5_col4\" class=\"data row5 col4\" >0.216225</td>\n",
       "      <td id=\"T_e3375_row5_col5\" class=\"data row5 col5\" >1.000000</td>\n",
       "      <td id=\"T_e3375_row5_col6\" class=\"data row5 col6\" >-0.182024</td>\n",
       "      <td id=\"T_e3375_row5_col7\" class=\"data row5 col7\" >-0.271832</td>\n",
       "    </tr>\n",
       "    <tr>\n",
       "      <th id=\"T_e3375_level0_row6\" class=\"row_heading level0 row6\" >adult_male</th>\n",
       "      <td id=\"T_e3375_row6_col0\" class=\"data row6 col0\" >-0.557080</td>\n",
       "      <td id=\"T_e3375_row6_col1\" class=\"data row6 col1\" >0.094035</td>\n",
       "      <td id=\"T_e3375_row6_col2\" class=\"data row6 col2\" >0.253236</td>\n",
       "      <td id=\"T_e3375_row6_col3\" class=\"data row6 col3\" >-0.253586</td>\n",
       "      <td id=\"T_e3375_row6_col4\" class=\"data row6 col4\" >-0.349943</td>\n",
       "      <td id=\"T_e3375_row6_col5\" class=\"data row6 col5\" >-0.182024</td>\n",
       "      <td id=\"T_e3375_row6_col6\" class=\"data row6 col6\" >1.000000</td>\n",
       "      <td id=\"T_e3375_row6_col7\" class=\"data row6 col7\" >0.404744</td>\n",
       "    </tr>\n",
       "    <tr>\n",
       "      <th id=\"T_e3375_level0_row7\" class=\"row_heading level0 row7\" >alone</th>\n",
       "      <td id=\"T_e3375_row7_col0\" class=\"data row7 col0\" >-0.203367</td>\n",
       "      <td id=\"T_e3375_row7_col1\" class=\"data row7 col1\" >0.135207</td>\n",
       "      <td id=\"T_e3375_row7_col2\" class=\"data row7 col2\" >0.179775</td>\n",
       "      <td id=\"T_e3375_row7_col3\" class=\"data row7 col3\" >-0.584471</td>\n",
       "      <td id=\"T_e3375_row7_col4\" class=\"data row7 col4\" >-0.583398</td>\n",
       "      <td id=\"T_e3375_row7_col5\" class=\"data row7 col5\" >-0.271832</td>\n",
       "      <td id=\"T_e3375_row7_col6\" class=\"data row7 col6\" >0.404744</td>\n",
       "      <td id=\"T_e3375_row7_col7\" class=\"data row7 col7\" >1.000000</td>\n",
       "    </tr>\n",
       "  </tbody>\n",
       "</table>\n"
      ],
      "text/plain": [
       "<pandas.io.formats.style.Styler at 0x22e8c4f3a30>"
      ]
     },
     "execution_count": 81,
     "metadata": {},
     "output_type": "execute_result"
    }
   ],
   "source": [
    "# correlation matrix\n",
    "data_1.corr().style.background_gradient(cmap='coolwarm')"
   ]
  }
 ],
 "metadata": {
  "kernelspec": {
   "display_name": "Python 3.9.12 ('base')",
   "language": "python",
   "name": "python3"
  },
  "language_info": {
   "codemirror_mode": {
    "name": "ipython",
    "version": 3
   },
   "file_extension": ".py",
   "mimetype": "text/x-python",
   "name": "python",
   "nbconvert_exporter": "python",
   "pygments_lexer": "ipython3",
   "version": "3.9.12"
  },
  "orig_nbformat": 4,
  "vscode": {
   "interpreter": {
    "hash": "ad2bdc8ecc057115af97d19610ffacc2b4e99fae6737bb82f5d7fb13d2f2c186"
   }
  }
 },
 "nbformat": 4,
 "nbformat_minor": 2
}
